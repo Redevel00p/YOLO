{
  "cells": [
    {
      "cell_type": "markdown",
      "metadata": {
        "id": "1sUfcA8ZgR2t"
      },
      "source": [
        "# Training Model YOLO\n",
        "**Penulis:** Irfan Muzaki\n",
        "\n",
        "**Update Terbaru:** 17 Mei 2025\n",
        "\n",
        "**GitHub:** [Train and Deploy YOLO Models](https://github.com/EdjeElectronics/Train-and-Deploy-YOLO-Models)\n",
        "\n",
        "# Pendahuluan\n",
        "\n",
        "Notebook ini menggunakan [Ultralytics](https://docs.ultralytics.com/) to men-training model dataset sendiri\n",
        "\n",
        "Ada Channel YouTube yang membahas tentang membuat model dan training YOLO untuk Object Detection, Klik Tautan di bawah ini. Credit: Evan Juras, EJ Technology Consultants\n",
        "\n",
        "<p align=center>\n",
        "<a href=\"https://youtu.be/r0RspiLG260\" target=\"_blank\"><img src=\"https://raw.githubusercontent.com/EdjeElectronics/Train-and-Deploy-YOLO-Models/refs/heads/main/doc/Train_YOLO_Thumbnail2.png\" height=\"240\"><br>\n",
        "<i>Klik di sini untuk pergi ke tautan!!</i></a>\n",
        "</p>\n",
        "\n",
        "\n"
      ]
    },
    {
      "cell_type": "markdown",
      "source": [
        "## Memastikan GPU NVIDIA Tersedia\n",
        "\n",
        "*Rekomendasi GPU: T4*\n",
        "\n",
        "Pastikan sudah menggunakan GPU dengan mengklik \"Runtime\" di atas kiri halaman ini (menu bar), lalu klik \"Change runtime type\", dan pilih GPU yang tersedia. Klik tombol di bawah ini untuk memastikan GPU tersedia untuk Training."
      ],
      "metadata": {
        "id": "3NW7LLv_QPOO"
      }
    },
    {
      "cell_type": "code",
      "source": [
        "!nvidia-smi"
      ],
      "metadata": {
        "id": "cfaWho47RGDf"
      },
      "execution_count": null,
      "outputs": []
    },
    {
      "cell_type": "markdown",
      "metadata": {
        "id": "TIHu25pnjjJ1"
      },
      "source": [
        "#1.&nbsp;Menyiapkan Dataset"
      ]
    },
    {
      "cell_type": "markdown",
      "metadata": {
        "id": "O6Y1vBiRjpcq"
      },
      "source": [
        "Sebelum Training, pastikan folder sudah berbentuk seperi ini\n",
        "\n",
        "- `images` folder yang berisi gambar dataset\n",
        "- `labels` folder yang berisi label dalam forfmat YOLO (.txt)\n",
        "- `classes.txt` daftar kelas yang ada\n",
        "- `notes.json` info tambahan dari label-studio (bisa di abaikan saja)\n",
        "\n",
        "Setelah folder berbentuk seperti ini, jadikan ke dalam bentuk archive `.zip`\n",
        "\n",
        "Jika dataset diperoleh dari sumber lain (seperti Roboflow Universe) atau menggunakan alat lain untuk melabeli dataset, pastikan file-file tersebut sudah diatur dalam struktur folder seperti di atas dan di jadikan `.zip`.\n",
        "\n",
        "<p align=center>\n",
        "<img src=\"https://raw.githubusercontent.com/EdjeElectronics/Train-and-Deploy-YOLO-Models/refs/heads/main/doc/zipped-data-example.png\" height=\"\"><br>\n"
      ]
    },
    {
      "cell_type": "markdown",
      "metadata": {
        "id": "8eDhuvzDfIFS"
      },
      "source": [
        "# 2.&nbsp;Upload Gambar Dataset dan Pre-processing"
      ]
    },
    {
      "cell_type": "markdown",
      "source": [
        "## 2.1 Upload Gambar\n",
        "\n",
        "Upload dataset yang telah dijadikan dalam bentuk `.zip` ke sini dengan mengklik gambar folder di samping kiri ini, bisa seret lepas, atau seperti gambar di bawah ini\n",
        "\n",
        "<p>\n",
        "<br>\n",
        "<img src=\"https://raw.githubusercontent.com/EdjeElectronics/Train-and-Deploy-YOLO-Models/refs/heads/main/doc/upload-colab-files.png\" height=\"240\">\n",
        "</p>\n"
      ],
      "metadata": {
        "id": "FwKAqFIQSBpn"
      }
    },
    {
      "cell_type": "markdown",
      "source": [
        "\n",
        "**Atau bisa juga Upload dari Google Drive**\n",
        "\n",
        "Upload dataset ke Google Drive pribadi Anda. Opsi ini sangat berguna jika Anda ingin membiarkan dataset berada di sini karena setiap Google Colab ini di restart, maka dataset Anda akan hilang. Jika Anda memiliki gambar berukuran lebih dari 50MB, sangat disarankan untuk menggunakan opsi ini.\n",
        "\n",
        "\n",
        "Pertama, upload file `.zip` ke Google Drive Anda, dan salin folder tempat Anda menguploadnya. Ganti `MyDrive/..../..../(nama file dataset anda).zip` dengan jalur ke file zip Anda. (Contohnya, saya mengupload file zip ke folder bernama “dataset saya”, jadi saya akan menggunakan `MyDrive/dataset saya/(nama data set saya).zip` untuk jalurnya). Kemudian, jalankan blok kode berikut untuk memasang Google Drive Anda ke sesi Colab ini dan salin folder ke sistem file ini.\n"
      ],
      "metadata": {
        "id": "TC4bZM1UWRdY"
      }
    },
    {
      "cell_type": "code",
      "source": [
        "from google.colab import drive\n",
        "drive.mount('/content/gdrive')\n",
        "\n",
        "!cp /content/gdrive/MyDrive/path/to/data.zip /content #<<--------GANTI DENGAN NAMA PATH ANDA"
      ],
      "metadata": {
        "id": "ZfQBSwDdWoWp"
      },
      "execution_count": null,
      "outputs": []
    },
    {
      "cell_type": "markdown",
      "source": [
        "## 2.2 Split Gambar ke Folder \"train\" dan \"validation\""
      ],
      "metadata": {
        "id": "m7Iz9eBzW5zm"
      }
    },
    {
      "cell_type": "code",
      "execution_count": null,
      "metadata": {
        "id": "z8O6z-wVcPEF"
      },
      "outputs": [],
      "source": [
        "# Unzip images to a custom data folder\n",
        "!unzip -q /content/XXXXXXXXXXXXXXXXXX.zip -d /content/custom_data #<GANTI XXXXXXXXXXXXXXX dengan"
      ]
    },
    {
      "cell_type": "markdown",
      "source": [
        "Ultralytics memerlukan struktur folder tertentu untuk menyimpan data pelatihan untuk model. Folder root diberi nama “data”. Di dalamnya terdapat dua folder utama:\n",
        "\n",
        "*   **train**: berisi gambar asli yang digunakan untuk melatih model. Dalam satu epoch pelatihan, setiap gambar dalam folder `train` diteruskan ke neural network. Algoritma pelatihan menyesuaikan bobot jaringan agar sesuai dengan data dalam gambar.\n",
        "\n",
        "*   **validation**: Gambar-gambar di folder ini digunakan untuk memeriksa kinerja model pada akhir setiap epoch pelatihan.\n",
        "\n",
        "Di setiap folder ini terdapat folder “images” dan folder “labels”, yang masing-masing menyimpan file gambar dan file annotation."
      ],
      "metadata": {
        "id": "eoPjqW6AYebn"
      }
    },
    {
      "cell_type": "markdown",
      "source": [
        "\n",
        "Di bawah ini adalah script Phyton yang dibuat oleh seseorang, dimana script akan otomatis membuat folder yang dibutuhkan, lalu 90% gambar dataset dipindahkan ke folder \"train\" dan 10% ke folder \"validation\" folder. Jalankan script dibawah ini untuk menjalankan."
      ],
      "metadata": {
        "id": "f2ohNAhWj41n"
      }
    },
    {
      "cell_type": "code",
      "source": [
        "!wget -O /content/train_val_split.py https://raw.githubusercontent.com/EdjeElectronics/Train-and-Deploy-YOLO-Models/refs/heads/main/utils/train_val_split.py\n",
        "\n",
        "# TO DO: Improve robustness of train_val_split.py script so it can handle nested data folders, etc\n",
        "!python train_val_split.py --datapath=\"/content/custom_data\" --train_pct=0.9"
      ],
      "metadata": {
        "id": "8X62eFTugosf"
      },
      "execution_count": null,
      "outputs": []
    },
    {
      "cell_type": "markdown",
      "source": [
        "# 3.&nbsp;Install Ultralytics untuk Training\n"
      ],
      "metadata": {
        "id": "B2L2qGCJzwY9"
      }
    },
    {
      "cell_type": "code",
      "source": [
        "!pip install ultralytics"
      ],
      "metadata": {
        "id": "EMEDk5byzxY5"
      },
      "execution_count": null,
      "outputs": []
    },
    {
      "cell_type": "markdown",
      "metadata": {
        "id": "cuZoMkSFN9XG"
      },
      "source": [
        "# 4.&nbsp;Configure Training\n"
      ]
    },
    {
      "cell_type": "markdown",
      "source": [
        "Ada satu langkah lagi sebelum kita menjalankan pelatihan: kita perlu membuat file YAML konfigurasi pelatihan Ultralytics. File ini menentukan lokasi data pelatihan dan validasi Anda, dan juga mendefinisikan kelas-kelas model. Contoh file konfigurasi model tersedia [di sini](https://github.com/ultralytics/ultralytics/blob/main/ultralytics/cfg/datasets/coco128.yaml).\n",
        "\n",
        "Jalankan blok kode di bawah ini untuk secara otomatis menghasilkan file konfigurasi `data.yaml`. Pastikan Anda memiliki file labelmap atau kelas yang terletak di `custom_data/classes.txt`. Jika Anda menggunakan Label Studio atau salah satu dataset yang sudah dibuat sebelumnya, seharusnya filenya sudah ada. Jika Anda mengumpulkan dataset dengan cara lain, Anda mungkin harus membuat file `classes.txt` secara manual (lihat [di sini] (https://github.com/EdjeElectronics/Train-and-Deploy-YOLO-Models/blob/main/doc/classes.txt) untuk contoh formatnya)."
      ],
      "metadata": {
        "id": "0c5Kdh0GmQHS"
      }
    },
    {
      "cell_type": "code",
      "source": [
        "\n",
        "# Fungsi Python untuk membuat file konfigurasi data.yaml secara otomatis\n",
        "# 1. Membaca file “classes.txt” untuk mendapatkan daftar nama kelas\n",
        "# 2. Membuat dictionary data dengan jalur yang benar ke folder, jumlah kelas, dan nama-nama kelas\n",
        "# 3. Menulis data dalam format YAML ke data.yaml\n",
        "\n",
        "\n",
        "import yaml\n",
        "import os\n",
        "\n",
        "def create_data_yaml(path_to_classes_txt, path_to_data_yaml):\n",
        "\n",
        "  # Membaca class.txt untuk mendapatkan nama-nama kelas\n",
        "  if not os.path.exists(path_to_classes_txt):\n",
        "    print(f'classes.txt file not found! Please create a classes.txt labelmap and move it to {path_to_classes_txt}')\n",
        "    return\n",
        "  with open(path_to_classes_txt, 'r') as f:\n",
        "    classes = []\n",
        "    for line in f.readlines():\n",
        "      if len(line.strip()) == 0: continue\n",
        "      classes.append(line.strip())\n",
        "  number_of_classes = len(classes)\n",
        "\n",
        "  # Membuat dictionary data\n",
        "  data = {\n",
        "      'path': '/content/data',\n",
        "      'train': 'train/images',\n",
        "      'val': 'validation/images',\n",
        "      'nc': number_of_classes,\n",
        "      'names': classes\n",
        "  }\n",
        "\n",
        "  # Menulis data ke file YAML\n",
        "  with open(path_to_data_yaml, 'w') as f:\n",
        "    yaml.dump(data, f, sort_keys=False)\n",
        "  print(f'Created config file at {path_to_data_yaml}')\n",
        "\n",
        "  return\n",
        "\n",
        "# Tentukan jalur ke class.txt dan jalankan fungsi\n",
        "path_to_classes_txt = '/content/custom_data/classes.txt'\n",
        "path_to_data_yaml = '/content/data.yaml'\n",
        "\n",
        "create_data_yaml(path_to_classes_txt, path_to_data_yaml)\n",
        "\n",
        "print('\\nFile contents:\\n')\n",
        "!cat /content/data.yaml"
      ],
      "metadata": {
        "id": "4letvP7X12ji"
      },
      "execution_count": null,
      "outputs": []
    },
    {
      "cell_type": "markdown",
      "metadata": {
        "id": "myP80_bnTNMi"
      },
      "source": [
        "# 5.&nbsp;Training Model"
      ]
    },
    {
      "cell_type": "markdown",
      "source": [
        "\n",
        "## 5.1 Parameter Pelatihan\n",
        "\n",
        "Sekarang data sudah diorganisir dan file konfigurasi telah dibuat, kita siap untuk memulai pelatihan. Pertama, ada beberapa parameter penting yang harus diputuskan. Kunjungi artikel tentang [Melatih Model YOLO Secara Lokal](https://www.ejtech.io/learn/train-yolo-models) untuk mempelajari lebih lanjut tentang parameter-parameter ini dan cara memilihnya.\n",
        "\n",
        "**Arsitektur & ukuran model (`model`):**\n",
        "Tersedia beberapa ukuran model YOLO11 yang bisa digunakan untuk pelatihan, termasuk `yolo11n.pt`, `yolo11s.pt`, `yolo11m.pt`, `yolo11l.pt`, dan `yolo11xl.pt`. Model yang lebih besar berjalan lebih lambat namun memiliki akurasi lebih tinggi, sementara model yang lebih kecil berjalan lebih cepat tetapi akurasinya lebih rendah.\n",
        "\n",
        "Anda juga bisa melatih model YOLOv8 atau YOLOv5 dengan mengganti `yolo11` menjadi `yolov8` atau `yolov5`.\n",
        "\n",
        "**Jumlah epoch (`epochs`)**\n",
        "Dalam machine learning, satu “epoch” berarti satu kali siklus penuh melalui seluruh dataset pelatihan. Menentukan jumlah epoch berarti menentukan berapa lama model akan dilatih. Jumlah epoch terbaik tergantung pada ukuran dataset dan arsitektur model. Jika dataset anda memiliki kurang dari 200 gambar, 60 epoch adalah titik awal yang baik. Jika dataset anda memiliki lebih dari 200 gambar, titik awal yang baik adalah 40 epoch.\n",
        "\n",
        "**Resolusi (`imgsz`)**\n",
        "Resolusi sangat memengaruhi kecepatan dan akurasi model: model dengan resolusi rendah akan memiliki kecepatan lebih tinggi tetapi akurasi lebih rendah. Model YOLO biasanya dilatih dan digunakan dengan resolusi 640x640. Namun, jika ingin model berjalan lebih cepat atau bekerja dengan gambar beresolusi rendah, cobalah menggunakan resolusi yang lebih rendah seperti 480x480.\n"
      ],
      "metadata": {
        "id": "DfKspYasCzC8"
      }
    },
    {
      "cell_type": "markdown",
      "source": [
        "## 5.2 Mari Kita Training!"
      ],
      "metadata": {
        "id": "V17UjYU5ZQdR"
      }
    },
    {
      "cell_type": "markdown",
      "source": [
        "\n",
        "**Jalankan blok kode berikut untuk memulai pelatihan.**\n",
        "Jika Anda ingin menggunakan model yang berbeda, jumlah epoch yang berbeda, atau resolusi yang berbeda, ubah nilai dari `model`, `epochs`, atau `imgsz`.\n",
        "\n"
      ],
      "metadata": {
        "id": "nQi_hXnUVPr-"
      }
    },
    {
      "cell_type": "code",
      "execution_count": null,
      "metadata": {
        "id": "8bbpob1gTPlo"
      },
      "outputs": [],
      "source": [
        "!yolo detect train data=/content/data.yaml model=yolo11s.pt epochs=60 imgsz=640"
      ]
    },
    {
      "cell_type": "markdown",
      "source": [
        "**Algoritma pelatihan akan memproses gambar-gambar dalam direktori pelatihan dan validasi, lalu mulai melatih model.**\n",
        "Di akhir setiap epoch pelatihan, program akan menjalankan model pada dataset validasi dan melaporkan nilai *mAP*, *precision*, dan *recall* yang dihasilkan.\n",
        "Seiring pelatihan berjalan, *mAP* biasanya akan meningkat di setiap epoch.\n",
        "Pelatihan akan berakhir setelah melewati jumlah epoch yang ditentukan oleh `epochs`.\n",
        "\n",
        "> **CATATAN:** Pastikan pelatihan dibiarkan berjalan hingga selesai, karena ada proses *optimizer* yang dijalankan di akhir pelatihan untuk menghapus layer-layer yang tidak diperlukan dari model.\n",
        "\n",
        "Model terbaik hasil pelatihan akan disimpan di:\n",
        "`content/runs/detect/train/weights/best.pt`\n",
        "Informasi tambahan tentang proses pelatihan disimpan dalam folder:\n",
        "`content/runs/detect/train`\n",
        "Termasuk file `results.png` yang menunjukkan perkembangan *loss*, *precision*, *recall*, dan *mAP* selama setiap epoch.\n",
        "\n"
      ],
      "metadata": {
        "id": "vv0EYWJ5V6mC"
      }
    },
    {
      "cell_type": "markdown",
      "metadata": {
        "id": "vo8BJRXeg0Ap"
      },
      "source": [
        "#6.&nbsp;Test Model"
      ]
    },
    {
      "cell_type": "markdown",
      "source": [
        "**Model telah selesai dilatih; sekarang saatnya mengujinya!**\n",
        "Perintah di bawah ini akan menjalankan model pada gambar-gambar di folder validasi dan menampilkan hasilnya untuk 10 gambar pertama.\n",
        "Ini adalah cara yang bagus untuk memastikan bahwa model kamu bekerja sesuai harapan.\n",
        "\n",
        "Klik **Play** pada blok-blok di bawah ini untuk melihat bagaimana performa model kamu.\n",
        "\n"
      ],
      "metadata": {
        "id": "BX3PTrEPacGY"
      }
    },
    {
      "cell_type": "code",
      "execution_count": null,
      "metadata": {
        "id": "PooP5Vjsg2Jn"
      },
      "outputs": [],
      "source": [
        "!yolo detect predict model=runs/detect/train/weights/best.pt source=data/validation/images save=True"
      ]
    },
    {
      "cell_type": "code",
      "execution_count": null,
      "metadata": {
        "id": "zEEObQqoiGrs"
      },
      "outputs": [],
      "source": [
        "import glob\n",
        "from IPython.display import Image, display\n",
        "for image_path in glob.glob(f'/content/runs/detect/predict/*.jpg')[:10]:\n",
        "  display(Image(filename=image_path, height=400))\n",
        "  print('\\n')\n"
      ]
    },
    {
      "cell_type": "markdown",
      "source": [
        "\n",
        "**Model seharusnya menggambar kotak di sekitar setiap objek yang terdeteksi dalam gambar.**\n",
        "Jika model belum mendeteksi objek dengan baik, berikut beberapa tips yang bisa membantu:\n",
        "\n",
        "1. Periksa ulang dataset kamu untuk memastikan tidak ada kesalahan label atau contoh yang saling bertentangan.\n",
        "2. Tambahkan jumlah *epoch* saat pelatihan.\n",
        "3. Gunakan model dengan ukuran lebih besar (misalnya `yolo11l.pt`).\n",
        "4. Tambahkan lebih banyak gambar ke dataset pelatihan. Lihat video tentang [tips pengambilan gambar untuk dataset](https://www.youtube.com/watch?v=v0ssiOY6cfg) agar pelatihan jadi lebih akurat.\n",
        "\n",
        "Anda juga bisa menjalankan model pada file video atau gambar lainnya dengan mengunggahnya ke notebook ini dan menggunakan perintah `!yolo detect predict` seperti di atas, di mana `source` diarahkan ke lokasi file video, gambar, atau folder gambar.\n",
        "Hasil prediksinya akan disimpan di:\n",
        "`runs/detect/predict`\n",
        "\n",
        "Menggambar kotak pada gambar memang bagus, tapi itu sendiri belum terlalu berguna.\n",
        "Selain itu, menjalankan model langsung di dalam notebook Colab juga kurang praktis.\n",
        "Akan jauh lebih berguna jika kita bisa menjalankannya langsung di komputer lokal.\n",
        "\n",
        "Lanjut ke bagian berikutnya untuk melihat cara mengunduh model hasil pelatihan dan menjalankannya di perangkat lokal anda.\n"
      ],
      "metadata": {
        "id": "EGiQw_gWbSBa"
      }
    },
    {
      "cell_type": "markdown",
      "metadata": {
        "id": "W7yrFRViVczX"
      },
      "source": [
        "#7.&nbsp;Deploy Model"
      ]
    },
    {
      "cell_type": "markdown",
      "source": [
        "**Sekarang model kustom anda sudah selesai dilatih, saatnya untuk diunduh dan digunakan dalam aplikasi**\n",
        "Model YOLO dapat dijalankan di berbagai jenis perangkat keras, termasuk PC, sistem embedded, dan ponsel.\n",
        "Ultralytics memudahkan proses konversi model YOLO ke berbagai format seperti `tflite`, `onnx`, dan lainnya, sehingga bisa digunakan di berbagai lingkungan.\n"
      ],
      "metadata": {
        "id": "FEtybPmB_ERi"
      }
    },
    {
      "cell_type": "markdown",
      "source": [
        "## 7.1 Download Model YOLO\n",
        "\n",
        "**Pertama, kompres dan unduh model hasil pelatihan dengan menjalankan blok kode di bawah ini.**\n",
        "\n",
        "Kode ini akan membuat folder bernama `my_model`, memindahkan *model weights* ke dalamnya, dan mengganti nama file dari `best.pt` menjadi `my_model.pt`.\n",
        "Folder tersebut juga akan menyertakan hasil pelatihan, sehingga kamu bisa merujuknya kembali nanti jika diperlukan.\n",
        "Setelah itu, folder akan dikompres menjadi file `my_model.zip`.\n"
      ],
      "metadata": {
        "id": "IcoBAeHXa86W"
      }
    },
    {
      "cell_type": "code",
      "source": [
        "# Membuat folder \"my_model\" untuk menyimpan bobot model dan hasil\n",
        "!mkdir /content/my_model\n",
        "!cp /content/runs/detect/train/weights/best.pt /content/my_model/my_model.pt\n",
        "!cp -r /content/runs/detect/train /content/my_model\n",
        "\n",
        "# Zip menjadi \"my_model.zip\"\n",
        "%cd my_model\n",
        "!zip /content/my_model.zip my_model.pt\n",
        "!zip -r /content/my_model.zip train\n",
        "%cd /content"
      ],
      "metadata": {
        "id": "qcBdnOA9v85S"
      },
      "execution_count": null,
      "outputs": []
    },
    {
      "cell_type": "code",
      "execution_count": null,
      "metadata": {
        "id": "43ypwonynLVu"
      },
      "outputs": [],
      "source": [
        "# Jika tidak mau, download dari samping\n",
        "from google.colab import files\n",
        "\n",
        "files.download('/content/my_model.zip')"
      ]
    },
    {
      "cell_type": "markdown",
      "source": [
        "\n",
        "Selanjutnya, kita akan menggunakan model yang telah diunduh dan menjalankannya di perangkat lokal.\n",
        "Bagian ini menyediakan panduan tentang cara men-deploy model YOLO di berbagai perangkat.\n",
        "\n",
        "Seseorang telah menulis skrip Python sederhana, `yolo_detect.py`, yang menunjukkan cara memuat model, menjalankan *inference* pada sumber gambar, memproses hasil inference, dan menampilkan kotak di sekitar setiap kelas yang terdeteksi dalam gambar.\n",
        "Skrip tersebut bisa kamu temukan di [tautan ini](https://github.com/EdjeElectronics/Train-and-Deploy-YOLO-Models/blob/main/yolo_detect.py).\n",
        "Skrip ini memberikan contoh dasar penggunaan model YOLO dari Ultralytics di Python, dan bisa dijadikan titik awal untuk pengembangan aplikasi yang lebih kompleks.\n",
        "\n"
      ],
      "metadata": {
        "id": "YL06c6pb_UqZ"
      }
    },
    {
      "cell_type": "markdown",
      "source": [
        "\n",
        "### 7.2.1 Men-deploy di PC (Windows, Linux, atau macOS)\n",
        "\n",
        "Cara termudah untuk menjalankan model Ultralytics di PC adalah dengan menggunakan **Anaconda**.\n",
        "Anaconda membuat lingkungan virtual Python dan memudahkan anda untuk menginstal Ultralytics dan PyTorch.\n",
        "Anaconda juga secara otomatis mengatur **CUDA** dan **cuDNN**, sehingga anda bisa mempercepat proses *inference* dengan GPU NVIDIA.\n",
        "\n",
        "> **CATATAN:** Video YouTube (tautan akan ditambahkan) menunjukkan cara men-deploy model di PC. Video tersebut menjelaskan langkah-langkah berikut secara visual, jadi tontonlah jika kamu lebih suka panduan berbasis video.\n",
        "\n",
        "---\n",
        "\n",
        "**1. Unduh dan Instal Anaconda**\n",
        "\n",
        "Kunjungi halaman unduh Anaconda di:\n",
        "[https://anaconda.com/download](https://anaconda.com/download)\n",
        "Klik tombol “skip registration”, lalu unduh paket untuk sistem operasi anda.\n",
        "Setelah selesai mengunduh, jalankan instalernya dan ikuti langkah-langkah instalasi.\n",
        "anda bisa menggunakan opsi default.\n",
        "\n",
        "---\n",
        "\n",
        "**2. Siapkan Lingkungan Virtual**\n",
        "\n",
        "Setelah Anaconda terinstal, buka **Anaconda Prompt** dari Start Menu.\n",
        "(Jika anda menggunakan macOS atau Linux, cukup buka terminal.)\n",
        "\n",
        "Jalankan perintah berikut untuk membuat lingkungan Python baru dan mengaktifkannya:\n",
        "\n",
        "```\n",
        "conda create --name yolo-env1 python=3.12 -y\n",
        "conda activate yolo-env1\n",
        "```\n",
        "\n",
        "Instal Ultralytics (yang juga akan menginstal pustaka seperti OpenCV-Python, Numpy, dan PyTorch):\n",
        "\n",
        "```\n",
        "pip install ultralytics\n",
        "```\n",
        "\n",
        "---\n",
        "\n",
        "**3. Ekstrak Model yang Sudah Diunduh**\n",
        "\n",
        "Ambil file `my_model.zip` yang sudah anda unduh di Langkah 7.1, lalu ekstrak ke sebuah folder di PC anda.\n",
        "Di terminal Anaconda Prompt, masuk ke folder hasil ekstraksi:\n",
        "\n",
        "```\n",
        "cd path/to/folder\n",
        "```\n",
        "\n",
        "Ganti `path/to/folder` dengan jalur folder yang sesuai.\n",
        "\n",
        "---\n",
        "\n",
        "**4. Unduh dan Jalankan `yolo_detect.py`**\n",
        "\n",
        "Unduh skrip `yolo_detect.py` ke dalam folder `my_model` dengan perintah berikut:\n",
        "\n",
        "```\n",
        "curl -o yolo_detect.py https://raw.githubusercontent.com/EdjeElectronics/Train-and-Deploy-YOLO-Models/refs/heads/main/yolo_detect.py\n",
        "```\n",
        "\n",
        "Oke! Sekarang kita siap menjalankan skrip.\n",
        "Untuk menjalankan *inference* dengan model `yolov8s` pada kamera USB dengan resolusi 1280x720, jalankan:\n",
        "\n",
        "```\n",
        "python yolo_detect.py --model my_model.pt --source usb0 --resolution 1280x720\n",
        "```\n",
        "\n",
        "Sebuah jendela akan muncul menampilkan *live feed* dari webcam anda, dengan kotak deteksi pada setiap objek yang terdeteksi di setiap frame.\n",
        "\n",
        "---\n",
        "\n",
        "anda juga bisa menjalankan model pada file video, gambar tunggal, atau folder gambar.\n",
        "Untuk melihat daftar lengkap argumen yang tersedia di `yolo_detect.py`, jalankan:\n",
        "\n",
        "```\n",
        "python yolo_detect.py --help\n",
        "```\n",
        "\n",
        "Atau kunjungi [README file](https://github.com/EdjeElectronics/Train-and-Deploy-YOLO-Models/blob/main/README.md) di GitHub.\n",
        "\n",
        "\n"
      ],
      "metadata": {
        "id": "gzaJQ2sGEPhP"
      }
    }
  ],
  "metadata": {
    "accelerator": "GPU",
    "colab": {
      "gpuType": "T4",
      "provenance": []
    },
    "kernelspec": {
      "display_name": "Python 3",
      "name": "python3"
    },
    "language_info": {
      "name": "python"
    }
  },
  "nbformat": 4,
  "nbformat_minor": 0
}