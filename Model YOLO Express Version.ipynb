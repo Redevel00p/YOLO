{
  "cells": [
    {
      "cell_type": "markdown",
      "metadata": {
        "id": "1sUfcA8ZgR2t"
      },
      "source": [
        "# Training Model YOLO EXPRESS VERSION\n",
        "**Oleh:** Irfan Muzaki\n",
        "\n",
        "**Update Terbaru:** 17 Mei 2025\n",
        "\n"
      ]
    },
    {
      "cell_type": "markdown",
      "source": [
        "## Memastikan GPU NVIDIA Tersedia\n",
        "\n",
        "*Rekomendasi GPU: T4*\n"
      ],
      "metadata": {
        "id": "3NW7LLv_QPOO"
      }
    },
    {
      "cell_type": "code",
      "source": [
        "!nvidia-smi"
      ],
      "metadata": {
        "id": "cfaWho47RGDf"
      },
      "execution_count": null,
      "outputs": []
    },
    {
      "cell_type": "markdown",
      "metadata": {
        "id": "8eDhuvzDfIFS"
      },
      "source": [
        "# 2.&nbsp;Upload Gambar Dataset dan Pre-processing"
      ]
    },
    {
      "cell_type": "markdown",
      "source": [
        "## 2.1 Upload Gambar\n",
        "\n",
        "Upload dataset yang telah dijadikan dalam bentuk `.zip` ke sini dengan mengklik gambar folder di samping kiri ini, bisa seret lepas"
      ],
      "metadata": {
        "id": "FwKAqFIQSBpn"
      }
    },
    {
      "cell_type": "markdown",
      "source": [
        "\n",
        "**Atau bisa juga Upload dari Google Drive**\n",
        "\n",
        "Pertama, upload file `.zip` ke Google Drive Anda, dan salin folder tempat Anda menguploadnya. Ganti `MyDrive/..../..../(nama file dataset anda).zip` dengan jalur ke file zip Anda. (Contohnya, saya mengupload file zip ke folder bernama “dataset saya”, jadi saya akan menggunakan `MyDrive/dataset saya/(nama data set saya).zip` untuk jalurnya). Kemudian, jalankan blok kode berikut untuk memasang Google Drive Anda ke sesi Colab ini dan salin folder ke sistem file ini.\n"
      ],
      "metadata": {
        "id": "TC4bZM1UWRdY"
      }
    },
    {
      "cell_type": "code",
      "source": [
        "from google.colab import drive\n",
        "drive.mount('/content/gdrive')\n",
        "\n",
        "!cp /content/gdrive/MyDrive/path/to/data.zip /content #<<--------GANTI DENGAN NAMA PATH ANDA"
      ],
      "metadata": {
        "id": "ZfQBSwDdWoWp"
      },
      "execution_count": null,
      "outputs": []
    },
    {
      "cell_type": "markdown",
      "source": [
        "## 2.2 Split Gambar ke Folder \"train\" dan \"validation\""
      ],
      "metadata": {
        "id": "m7Iz9eBzW5zm"
      }
    },
    {
      "cell_type": "code",
      "execution_count": null,
      "metadata": {
        "id": "z8O6z-wVcPEF"
      },
      "outputs": [],
      "source": [
        "# Unzip images to a custom data folder\n",
        "!unzip -q /content/XXXXXXXXXXXXXXXXXX.zip -d /content/custom_data #<GANTI XXXXXXXXXXXXXXX dengan"
      ]
    },
    {
      "cell_type": "code",
      "source": [
        "!wget -O /content/train_val_split.py https://raw.githubusercontent.com/EdjeElectronics/Train-and-Deploy-YOLO-Models/refs/heads/main/utils/train_val_split.py\n",
        "\n",
        "# TO DO: Improve robustness of train_val_split.py script so it can handle nested data folders, etc\n",
        "!python train_val_split.py --datapath=\"/content/custom_data\" --train_pct=0.9"
      ],
      "metadata": {
        "id": "8X62eFTugosf"
      },
      "execution_count": null,
      "outputs": []
    },
    {
      "cell_type": "markdown",
      "source": [
        "# 3.&nbsp;Install Ultralytics untuk Training\n"
      ],
      "metadata": {
        "id": "B2L2qGCJzwY9"
      }
    },
    {
      "cell_type": "code",
      "source": [
        "!pip install ultralytics"
      ],
      "metadata": {
        "id": "EMEDk5byzxY5"
      },
      "execution_count": null,
      "outputs": []
    },
    {
      "cell_type": "markdown",
      "metadata": {
        "id": "cuZoMkSFN9XG"
      },
      "source": [
        "# 4.&nbsp;Configure Training\n"
      ]
    },
    {
      "cell_type": "code",
      "source": [
        "\n",
        "# Fungsi Python untuk membuat file konfigurasi data.yaml secara otomatis\n",
        "# 1. Membaca file “classes.txt” untuk mendapatkan daftar nama kelas\n",
        "# 2. Membuat dictionary data dengan jalur yang benar ke folder, jumlah kelas, dan nama-nama kelas\n",
        "# 3. Menulis data dalam format YAML ke data.yaml\n",
        "\n",
        "\n",
        "import yaml\n",
        "import os\n",
        "\n",
        "def create_data_yaml(path_to_classes_txt, path_to_data_yaml):\n",
        "\n",
        "  # Membaca class.txt untuk mendapatkan nama-nama kelas\n",
        "  if not os.path.exists(path_to_classes_txt):\n",
        "    print(f'classes.txt file not found! Please create a classes.txt labelmap and move it to {path_to_classes_txt}')\n",
        "    return\n",
        "  with open(path_to_classes_txt, 'r') as f:\n",
        "    classes = []\n",
        "    for line in f.readlines():\n",
        "      if len(line.strip()) == 0: continue\n",
        "      classes.append(line.strip())\n",
        "  number_of_classes = len(classes)\n",
        "\n",
        "  # Membuat dictionary data\n",
        "  data = {\n",
        "      'path': '/content/data',\n",
        "      'train': 'train/images',\n",
        "      'val': 'validation/images',\n",
        "      'nc': number_of_classes,\n",
        "      'names': classes\n",
        "  }\n",
        "\n",
        "  # Menulis data ke file YAML\n",
        "  with open(path_to_data_yaml, 'w') as f:\n",
        "    yaml.dump(data, f, sort_keys=False)\n",
        "  print(f'Created config file at {path_to_data_yaml}')\n",
        "\n",
        "  return\n",
        "\n",
        "# Tentukan jalur ke class.txt dan jalankan fungsi\n",
        "path_to_classes_txt = '/content/custom_data/classes.txt'\n",
        "path_to_data_yaml = '/content/data.yaml'\n",
        "\n",
        "create_data_yaml(path_to_classes_txt, path_to_data_yaml)\n",
        "\n",
        "print('\\nFile contents:\\n')\n",
        "!cat /content/data.yaml"
      ],
      "metadata": {
        "id": "4letvP7X12ji"
      },
      "execution_count": null,
      "outputs": []
    },
    {
      "cell_type": "markdown",
      "metadata": {
        "id": "myP80_bnTNMi"
      },
      "source": [
        "# 5.&nbsp;Training Model"
      ]
    },
    {
      "cell_type": "markdown",
      "source": [
        "\n",
        "**Jalankan blok kode berikut untuk memulai pelatihan.**\n",
        "Jika Anda ingin menggunakan model yang berbeda, jumlah epoch yang berbeda, atau resolusi yang berbeda, ubah nilai dari `model`, `epochs`, atau `imgsz`.\n",
        "\n"
      ],
      "metadata": {
        "id": "nQi_hXnUVPr-"
      }
    },
    {
      "cell_type": "code",
      "execution_count": null,
      "metadata": {
        "id": "8bbpob1gTPlo"
      },
      "outputs": [],
      "source": [
        "!yolo detect train data=/content/data.yaml model=yolo11s.pt epochs=60 imgsz=640"
      ]
    },
    {
      "cell_type": "markdown",
      "source": [
        "**Algoritma pelatihan akan memproses gambar-gambar dalam direktori pelatihan dan validasi, lalu mulai melatih model.**\n",
        "Di akhir setiap epoch pelatihan, program akan menjalankan model pada dataset validasi dan melaporkan nilai *mAP*, *precision*, dan *recall* yang dihasilkan.\n",
        "Seiring pelatihan berjalan, *mAP* biasanya akan meningkat di setiap epoch.\n",
        "Pelatihan akan berakhir setelah melewati jumlah epoch yang ditentukan oleh `epochs`.\n",
        "\n",
        "> **CATATAN:** Pastikan pelatihan dibiarkan berjalan hingga selesai, karena ada proses *optimizer* yang dijalankan di akhir pelatihan untuk menghapus layer-layer yang tidak diperlukan dari model.\n",
        "\n",
        "Model terbaik hasil pelatihan akan disimpan di:\n",
        "`content/runs/detect/train/weights/best.pt`\n",
        "Informasi tambahan tentang proses pelatihan disimpan dalam folder:\n",
        "`content/runs/detect/train`\n",
        "Termasuk file `results.png` yang menunjukkan perkembangan *loss*, *precision*, *recall*, dan *mAP* selama setiap epoch.\n",
        "\n"
      ],
      "metadata": {
        "id": "vv0EYWJ5V6mC"
      }
    },
    {
      "cell_type": "markdown",
      "metadata": {
        "id": "vo8BJRXeg0Ap"
      },
      "source": [
        "#6.&nbsp;Test Model"
      ]
    },
    {
      "cell_type": "code",
      "execution_count": null,
      "metadata": {
        "id": "PooP5Vjsg2Jn"
      },
      "outputs": [],
      "source": [
        "!yolo detect predict model=runs/detect/train/weights/best.pt source=data/validation/images save=True"
      ]
    },
    {
      "cell_type": "code",
      "execution_count": null,
      "metadata": {
        "id": "zEEObQqoiGrs"
      },
      "outputs": [],
      "source": [
        "import glob\n",
        "from IPython.display import Image, display\n",
        "for image_path in glob.glob(f'/content/runs/detect/predict/*.jpg')[:10]:\n",
        "  display(Image(filename=image_path, height=400))\n",
        "  print('\\n')\n"
      ]
    },
    {
      "cell_type": "markdown",
      "source": [
        "## 7. Download Model YOLO\n",
        "\n"
      ],
      "metadata": {
        "id": "IcoBAeHXa86W"
      }
    },
    {
      "cell_type": "code",
      "source": [
        "# Membuat folder \"my_model\" untuk menyimpan bobot model dan hasil\n",
        "!mkdir /content/my_model\n",
        "!cp /content/runs/detect/train/weights/best.pt /content/my_model/my_model.pt\n",
        "!cp -r /content/runs/detect/train /content/my_model\n",
        "\n",
        "# Zip menjadi \"my_model.zip\"\n",
        "%cd my_model\n",
        "!zip /content/my_model.zip my_model.pt\n",
        "!zip -r /content/my_model.zip train\n",
        "%cd /content"
      ],
      "metadata": {
        "id": "qcBdnOA9v85S"
      },
      "execution_count": null,
      "outputs": []
    },
    {
      "cell_type": "code",
      "execution_count": null,
      "metadata": {
        "id": "43ypwonynLVu"
      },
      "outputs": [],
      "source": [
        "# Jika tidak mau, download dari samping\n",
        "from google.colab import files\n",
        "\n",
        "files.download('/content/my_model.zip')"
      ]
    }
  ],
  "metadata": {
    "accelerator": "GPU",
    "colab": {
      "gpuType": "T4",
      "provenance": []
    },
    "kernelspec": {
      "display_name": "Python 3",
      "name": "python3"
    },
    "language_info": {
      "name": "python"
    }
  },
  "nbformat": 4,
  "nbformat_minor": 0
}